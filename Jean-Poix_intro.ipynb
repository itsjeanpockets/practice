{
 "cells": [
  {
   "cell_type": "markdown",
   "id": "8164c2d5",
   "metadata": {},
   "source": [
    "# First Notebook"
   ]
  },
  {
   "cell_type": "markdown",
   "id": "7042edcb",
   "metadata": {},
   "source": [
    "## Vanessa Jean-Poix"
   ]
  },
  {
   "cell_type": "code",
   "execution_count": 2,
   "id": "d2aa6b93",
   "metadata": {},
   "outputs": [],
   "source": [
    "import random\n",
    "nums = [0]*40\n",
    "for i in range(40):\n",
    "    nums[i] = random.randint(30,100)"
   ]
  },
  {
   "cell_type": "code",
   "execution_count": 3,
   "id": "e5cb034b",
   "metadata": {},
   "outputs": [
    {
     "name": "stdout",
     "output_type": "stream",
     "text": [
      "30 33 33 36 36 37 39 42 42 42 43 51 53 55 56 57 57 65 66 67 67 68 69 73 74 76 77 78 78 79 80 84 87 89 89 91 92 95 96 99 "
     ]
    }
   ],
   "source": [
    "nums = sorted(nums)\n",
    "for num in nums:\n",
    "    print(num,end=\" \")"
   ]
  },
  {
   "cell_type": "markdown",
   "id": "ed115da8",
   "metadata": {},
   "source": [
    "## The Sample Mean"
   ]
  },
  {
   "cell_type": "markdown",
   "id": "5c444696",
   "metadata": {},
   "source": [
    "- Determine the size of the sample, which is the number of observations in the sample. Let's call this number \"n.\"\n",
    "- Add up all the values of the sample. This is the sum of the values in the sample, which we'll call \"Σx.\"\n",
    "- Divide the sum of the values by the sample size (n). This gives you the sample mean or the average value of the sample. The formula for calculating the sample mean is: Sample Mean = Σx / n\n",
    "- For example, if you have a sample of five numbers: 10, 15, 20, 25, and 30, then: n = 5 (since there are five numbers in the sample)\n",
    "- Σx = 10 + 15 + 20 + 25 + 30 = 100; Sample Mean = Σx / n = 100 / 5 = 20\n",
    "- Therefore, the sample mean of this sample is 20.\n",
    "- Round the result to the desired number of decimal places, if necessary."
   ]
  },
  {
   "cell_type": "markdown",
   "id": "7c234691",
   "metadata": {},
   "source": [
    "$\\bar{x} = \\frac{\\Sigma x_i}{n}$"
   ]
  },
  {
   "cell_type": "code",
   "execution_count": 4,
   "id": "080deee0",
   "metadata": {},
   "outputs": [
    {
     "name": "stdout",
     "output_type": "stream",
     "text": [
      "sample mean=64.53\n"
     ]
    }
   ],
   "source": [
    "sample_mean=sum(nums)/len(nums)\n",
    "print(f'sample mean={sample_mean:.2f}')"
   ]
  },
  {
   "cell_type": "markdown",
   "id": "a215720d",
   "metadata": {},
   "source": [
    "## The Median"
   ]
  },
  {
   "cell_type": "markdown",
   "id": "26306752",
   "metadata": {},
   "source": [
    "https://byjus.com/maths/median/"
   ]
  },
  {
   "cell_type": "markdown",
   "id": "00baf7c6",
   "metadata": {},
   "source": [
    "<!-- If the total number of observation is even, then the median formula is:   Median  = [(n/2)th term + {(n/2)+1}th]/2=-->"
   ]
  },
  {
   "cell_type": "markdown",
   "id": "f8ff117e",
   "metadata": {},
   "source": [
    "<!-- where n is the number of observations -->"
   ]
  },
  {
   "cell_type": "code",
   "execution_count": 5,
   "id": "16f687d1",
   "metadata": {},
   "outputs": [],
   "source": [
    "median=(nums[len(nums)//2] + nums[len(nums)//2+1])/2"
   ]
  },
  {
   "cell_type": "code",
   "execution_count": 7,
   "id": "1ec3d69b",
   "metadata": {},
   "outputs": [
    {
     "name": "stdout",
     "output_type": "stream",
     "text": [
      "median=67.5\n"
     ]
    }
   ],
   "source": [
    "print(f'median={median:.1f}')"
   ]
  },
  {
   "cell_type": "code",
   "execution_count": null,
   "id": "eec6a6b9",
   "metadata": {},
   "outputs": [],
   "source": []
  }
 ],
 "metadata": {
  "kernelspec": {
   "display_name": "Python 3",
   "language": "python",
   "name": "python3"
  },
  "language_info": {
   "codemirror_mode": {
    "name": "ipython",
    "version": 3
   },
   "file_extension": ".py",
   "mimetype": "text/x-python",
   "name": "python",
   "nbconvert_exporter": "python",
   "pygments_lexer": "ipython3",
   "version": "3.8.8"
  }
 },
 "nbformat": 4,
 "nbformat_minor": 5
}
